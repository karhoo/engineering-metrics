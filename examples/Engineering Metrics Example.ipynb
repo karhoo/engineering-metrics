{
 "cells": [
  {
   "cell_type": "markdown",
   "metadata": {},
   "source": [
    "# Engineering Metrics Example"
   ]
  },
  {
   "cell_type": "markdown",
   "metadata": {},
   "source": [
    "In order to authenticate with the current Jira server we are required to use oauth with karhoo google apps credentials. To set this up you require the private and public keys of the Jira application for engineering metrics. Once you have these, set up your access as outlined here. \n",
    "\n",
    "Once config files are in place we can simple pass the path to the oauth config to an instance of the Engineering Metrics engine to gain access to all the juicy data stored in our Jira."
   ]
  },
  {
   "cell_type": "code",
   "execution_count": 1,
   "metadata": {},
   "outputs": [
    {
     "name": "stdout",
     "output_type": "stream",
     "text": [
      "\n",
      "Reading OAuth from /home/russell/.oauthconfig/.oauth_jira_config\n",
      "Request data for project id INT\n",
      "Data received for project id INT\n",
      "Request issues for project id INT\n"
     ]
    },
    {
     "name": "stderr",
     "output_type": "stream",
     "text": [
      "WARNING:root:Got recoverable error from GET https://jira.flit.tech/rest/api/2/search, will retry [1/3] in 15.945544655683147s. Err: 401 \n"
     ]
    },
    {
     "name": "stdout",
     "output_type": "stream",
     "text": [
      "Issues received for project id INT\n"
     ]
    }
   ],
   "source": [
    "import sys\n",
    "sys.path.append(\"..\")\n",
    "from engineeringmetrics.engine import EngineeringMetrics\n",
    "from pathlib import Path\n",
    "\n",
    "config_dict = {\n",
    "    'jira_oauth_config_path': Path.home()\n",
    "}\n",
    "\n",
    "kem = EngineeringMetrics(config_dict)\n",
    "projects_data = kem.jirametrics.populate_projects(['INT'],  max_results=110)"
   ]
  },
  {
   "cell_type": "code",
   "execution_count": 2,
   "metadata": {},
   "outputs": [
    {
     "data": {
      "text/plain": [
       "(110, 16)"
      ]
     },
     "execution_count": 2,
     "metadata": {},
     "output_type": "execute_result"
    }
   ],
   "source": [
    "import pandas as pd\n",
    "df = pd.DataFrame(projects_data['INT'].issues)\n",
    "df.shape"
   ]
  },
  {
   "cell_type": "code",
   "execution_count": 3,
   "metadata": {},
   "outputs": [
    {
     "data": {
      "text/html": [
       "<div>\n",
       "<style scoped>\n",
       "    .dataframe tbody tr th:only-of-type {\n",
       "        vertical-align: middle;\n",
       "    }\n",
       "\n",
       "    .dataframe tbody tr th {\n",
       "        vertical-align: top;\n",
       "    }\n",
       "\n",
       "    .dataframe thead th {\n",
       "        text-align: right;\n",
       "    }\n",
       "</style>\n",
       "<table border=\"1\" class=\"dataframe\">\n",
       "  <thead>\n",
       "    <tr style=\"text-align: right;\">\n",
       "      <th></th>\n",
       "      <th>ttype</th>\n",
       "      <th>id</th>\n",
       "      <th>key</th>\n",
       "      <th>url</th>\n",
       "      <th>summary</th>\n",
       "      <th>labels</th>\n",
       "      <th>created</th>\n",
       "      <th>updated_at</th>\n",
       "      <th>resolution</th>\n",
       "      <th>resolutiondate</th>\n",
       "      <th>assignee</th>\n",
       "      <th>description</th>\n",
       "      <th>priority</th>\n",
       "      <th>status</th>\n",
       "      <th>fixVersion</th>\n",
       "      <th>cycle_time</th>\n",
       "    </tr>\n",
       "  </thead>\n",
       "  <tbody>\n",
       "    <tr>\n",
       "      <td>0</td>\n",
       "      <td>Task</td>\n",
       "      <td>27837</td>\n",
       "      <td>INT-219</td>\n",
       "      <td>https://jira.flit.tech/browse/INT-219</td>\n",
       "      <td>Support Dynamic Fleet Accounts for Cabguru fleets</td>\n",
       "      <td>[Cabguru]</td>\n",
       "      <td>2019-08-08 15:32:33+01:00</td>\n",
       "      <td>None</td>\n",
       "      <td>None</td>\n",
       "      <td>None</td>\n",
       "      <td>Volha Dziaruha</td>\n",
       "      <td>The Booking.Go pilot Airport Community require...</td>\n",
       "      <td>Blocker</td>\n",
       "      <td>In QA</td>\n",
       "      <td>None</td>\n",
       "      <td>-1</td>\n",
       "    </tr>\n",
       "    <tr>\n",
       "      <td>1</td>\n",
       "      <td>Bug</td>\n",
       "      <td>27710</td>\n",
       "      <td>INT-214</td>\n",
       "      <td>https://jira.flit.tech/browse/INT-214</td>\n",
       "      <td>Very Urgent Not possible to see SnapCar for a ...</td>\n",
       "      <td>[Integration-issue, production-support]</td>\n",
       "      <td>2019-08-06 13:27:42+01:00</td>\n",
       "      <td>None</td>\n",
       "      <td>Done</td>\n",
       "      <td>2019-08-07 16:22:06+01:00</td>\n",
       "      <td>Chris Walker</td>\n",
       "      <td>We don't have a lot of trips with SnapCar, aft...</td>\n",
       "      <td>Blocker</td>\n",
       "      <td>Done</td>\n",
       "      <td>16 Aug 2019</td>\n",
       "      <td>1</td>\n",
       "    </tr>\n",
       "    <tr>\n",
       "      <td>2</td>\n",
       "      <td>Bug</td>\n",
       "      <td>30633</td>\n",
       "      <td>INT-362</td>\n",
       "      <td>https://jira.flit.tech/browse/INT-362</td>\n",
       "      <td>Possible Issue With LeCab Bookings on Gare Con...</td>\n",
       "      <td>[LeCab, operations-support, production-support]</td>\n",
       "      <td>2019-10-10 11:20:37+01:00</td>\n",
       "      <td>None</td>\n",
       "      <td>Done</td>\n",
       "      <td>2019-10-14 08:15:05+01:00</td>\n",
       "      <td>Chris Walker</td>\n",
       "      <td>In the last 20 hours there have been 12 FAILED...</td>\n",
       "      <td>Blocker</td>\n",
       "      <td>Done</td>\n",
       "      <td>None</td>\n",
       "      <td>2</td>\n",
       "    </tr>\n",
       "    <tr>\n",
       "      <td>3</td>\n",
       "      <td>Bug</td>\n",
       "      <td>29182</td>\n",
       "      <td>INT-277</td>\n",
       "      <td>https://jira.flit.tech/browse/INT-277</td>\n",
       "      <td>received non-200 response from DMS: could not ...</td>\n",
       "      <td>[]</td>\n",
       "      <td>2019-09-12 13:07:51+01:00</td>\n",
       "      <td>None</td>\n",
       "      <td>Done</td>\n",
       "      <td>2019-09-16 10:39:22+01:00</td>\n",
       "      <td>Andrei Stsishanok</td>\n",
       "      <td>Looks like it could be a permissions issue? Se...</td>\n",
       "      <td>Highest</td>\n",
       "      <td>Done</td>\n",
       "      <td>Release 13 Sep 2019</td>\n",
       "      <td>2</td>\n",
       "    </tr>\n",
       "    <tr>\n",
       "      <td>4</td>\n",
       "      <td>Bug</td>\n",
       "      <td>29142</td>\n",
       "      <td>INT-297</td>\n",
       "      <td>https://jira.flit.tech/browse/INT-297</td>\n",
       "      <td>Wrong pick-up time and no status update on the...</td>\n",
       "      <td>[operations-support]</td>\n",
       "      <td>2019-09-11 16:34:32+01:00</td>\n",
       "      <td>None</td>\n",
       "      <td>Done</td>\n",
       "      <td>2019-10-08 14:43:18+01:00</td>\n",
       "      <td>Preveen Etienne</td>\n",
       "      <td>DMS : German Transfer\\r\\n\\r\\nFleet : German Tr...</td>\n",
       "      <td>Highest</td>\n",
       "      <td>Done</td>\n",
       "      <td>None</td>\n",
       "      <td>19</td>\n",
       "    </tr>\n",
       "  </tbody>\n",
       "</table>\n",
       "</div>"
      ],
      "text/plain": [
       "  ttype     id      key                                    url  \\\n",
       "0  Task  27837  INT-219  https://jira.flit.tech/browse/INT-219   \n",
       "1   Bug  27710  INT-214  https://jira.flit.tech/browse/INT-214   \n",
       "2   Bug  30633  INT-362  https://jira.flit.tech/browse/INT-362   \n",
       "3   Bug  29182  INT-277  https://jira.flit.tech/browse/INT-277   \n",
       "4   Bug  29142  INT-297  https://jira.flit.tech/browse/INT-297   \n",
       "\n",
       "                                             summary  \\\n",
       "0  Support Dynamic Fleet Accounts for Cabguru fleets   \n",
       "1  Very Urgent Not possible to see SnapCar for a ...   \n",
       "2  Possible Issue With LeCab Bookings on Gare Con...   \n",
       "3  received non-200 response from DMS: could not ...   \n",
       "4  Wrong pick-up time and no status update on the...   \n",
       "\n",
       "                                            labels                    created  \\\n",
       "0                                        [Cabguru]  2019-08-08 15:32:33+01:00   \n",
       "1          [Integration-issue, production-support]  2019-08-06 13:27:42+01:00   \n",
       "2  [LeCab, operations-support, production-support]  2019-10-10 11:20:37+01:00   \n",
       "3                                               []  2019-09-12 13:07:51+01:00   \n",
       "4                             [operations-support]  2019-09-11 16:34:32+01:00   \n",
       "\n",
       "  updated_at resolution             resolutiondate           assignee  \\\n",
       "0       None       None                       None     Volha Dziaruha   \n",
       "1       None       Done  2019-08-07 16:22:06+01:00       Chris Walker   \n",
       "2       None       Done  2019-10-14 08:15:05+01:00       Chris Walker   \n",
       "3       None       Done  2019-09-16 10:39:22+01:00  Andrei Stsishanok   \n",
       "4       None       Done  2019-10-08 14:43:18+01:00    Preveen Etienne   \n",
       "\n",
       "                                         description priority status  \\\n",
       "0  The Booking.Go pilot Airport Community require...  Blocker  In QA   \n",
       "1  We don't have a lot of trips with SnapCar, aft...  Blocker   Done   \n",
       "2  In the last 20 hours there have been 12 FAILED...  Blocker   Done   \n",
       "3  Looks like it could be a permissions issue? Se...  Highest   Done   \n",
       "4  DMS : German Transfer\\r\\n\\r\\nFleet : German Tr...  Highest   Done   \n",
       "\n",
       "            fixVersion  cycle_time  \n",
       "0                 None          -1  \n",
       "1          16 Aug 2019           1  \n",
       "2                 None           2  \n",
       "3  Release 13 Sep 2019           2  \n",
       "4                 None          19  "
      ]
     },
     "execution_count": 3,
     "metadata": {},
     "output_type": "execute_result"
    }
   ],
   "source": [
    "df.head()"
   ]
  },
  {
   "cell_type": "code",
   "execution_count": 4,
   "metadata": {},
   "outputs": [
    {
     "data": {
      "text/plain": [
       "(8, 16)"
      ]
     },
     "execution_count": 4,
     "metadata": {},
     "output_type": "execute_result"
    }
   ],
   "source": [
    "oso_query = kem.jirametrics.populate_from_jql('project = \"OSO\" ORDER BY Rank ASC')\n",
    "oso_df = pd.DataFrame(oso_query.resolved_issues())\n",
    "oso_df.shape"
   ]
  },
  {
   "cell_type": "code",
   "execution_count": 5,
   "metadata": {},
   "outputs": [
    {
     "data": {
      "text/html": [
       "<div>\n",
       "<style scoped>\n",
       "    .dataframe tbody tr th:only-of-type {\n",
       "        vertical-align: middle;\n",
       "    }\n",
       "\n",
       "    .dataframe tbody tr th {\n",
       "        vertical-align: top;\n",
       "    }\n",
       "\n",
       "    .dataframe thead th {\n",
       "        text-align: right;\n",
       "    }\n",
       "</style>\n",
       "<table border=\"1\" class=\"dataframe\">\n",
       "  <thead>\n",
       "    <tr style=\"text-align: right;\">\n",
       "      <th></th>\n",
       "      <th>ttype</th>\n",
       "      <th>id</th>\n",
       "      <th>key</th>\n",
       "      <th>url</th>\n",
       "      <th>summary</th>\n",
       "      <th>labels</th>\n",
       "      <th>created</th>\n",
       "      <th>updated_at</th>\n",
       "      <th>resolution</th>\n",
       "      <th>resolutiondate</th>\n",
       "      <th>assignee</th>\n",
       "      <th>description</th>\n",
       "      <th>priority</th>\n",
       "      <th>status</th>\n",
       "      <th>fixVersion</th>\n",
       "      <th>cycle_time</th>\n",
       "    </tr>\n",
       "  </thead>\n",
       "  <tbody>\n",
       "    <tr>\n",
       "      <td>0</td>\n",
       "      <td>Task</td>\n",
       "      <td>29027</td>\n",
       "      <td>OSO-14</td>\n",
       "      <td>https://jira.flit.tech/browse/OSO-14</td>\n",
       "      <td>Radio Taxi Sevilla</td>\n",
       "      <td>[Taxitronic]</td>\n",
       "      <td>2019-09-10 14:02:00+01:00</td>\n",
       "      <td>None</td>\n",
       "      <td>Done</td>\n",
       "      <td>2019-09-11 16:55:00+01:00</td>\n",
       "      <td>Carmen Turner</td>\n",
       "      <td>Taxitronic</td>\n",
       "      <td>Normal</td>\n",
       "      <td>Done</td>\n",
       "      <td>None</td>\n",
       "      <td>1</td>\n",
       "    </tr>\n",
       "    <tr>\n",
       "      <td>1</td>\n",
       "      <td>Task</td>\n",
       "      <td>29397</td>\n",
       "      <td>OSO-38</td>\n",
       "      <td>https://jira.flit.tech/browse/OSO-38</td>\n",
       "      <td>Werotax</td>\n",
       "      <td>[]</td>\n",
       "      <td>2019-09-17 16:42:31+01:00</td>\n",
       "      <td>None</td>\n",
       "      <td>Done</td>\n",
       "      <td>2019-10-18 10:41:37+01:00</td>\n",
       "      <td>None</td>\n",
       "      <td>Sint-Oedenrode</td>\n",
       "      <td>Normal</td>\n",
       "      <td>Done</td>\n",
       "      <td>None</td>\n",
       "      <td>23</td>\n",
       "    </tr>\n",
       "    <tr>\n",
       "      <td>2</td>\n",
       "      <td>Task</td>\n",
       "      <td>29550</td>\n",
       "      <td>OSO-40</td>\n",
       "      <td>https://jira.flit.tech/browse/OSO-40</td>\n",
       "      <td>Britannia Taxis</td>\n",
       "      <td>[Booking.com, iCabbi]</td>\n",
       "      <td>2019-09-20 10:17:35+01:00</td>\n",
       "      <td>None</td>\n",
       "      <td>Done</td>\n",
       "      <td>2019-09-20 16:05:52+01:00</td>\n",
       "      <td>James Wilkins</td>\n",
       "      <td>Liverpool</td>\n",
       "      <td>Normal</td>\n",
       "      <td>Done</td>\n",
       "      <td>None</td>\n",
       "      <td>0</td>\n",
       "    </tr>\n",
       "    <tr>\n",
       "      <td>3</td>\n",
       "      <td>Task</td>\n",
       "      <td>29552</td>\n",
       "      <td>OSO-41</td>\n",
       "      <td>https://jira.flit.tech/browse/OSO-41</td>\n",
       "      <td>Thistle Cabs</td>\n",
       "      <td>[iCabbi]</td>\n",
       "      <td>2019-09-20 10:19:58+01:00</td>\n",
       "      <td>None</td>\n",
       "      <td>Done</td>\n",
       "      <td>2019-09-20 16:05:48+01:00</td>\n",
       "      <td>James Wilkins</td>\n",
       "      <td>Kilmarnock</td>\n",
       "      <td>Normal</td>\n",
       "      <td>Done</td>\n",
       "      <td>None</td>\n",
       "      <td>0</td>\n",
       "    </tr>\n",
       "    <tr>\n",
       "      <td>4</td>\n",
       "      <td>Task</td>\n",
       "      <td>29554</td>\n",
       "      <td>OSO-42</td>\n",
       "      <td>https://jira.flit.tech/browse/OSO-42</td>\n",
       "      <td>Door 2 Door Cars</td>\n",
       "      <td>[Booking.com, iCabbi]</td>\n",
       "      <td>2019-09-20 10:21:11+01:00</td>\n",
       "      <td>None</td>\n",
       "      <td>Done</td>\n",
       "      <td>2019-10-08 17:34:18+01:00</td>\n",
       "      <td>James Wilkins</td>\n",
       "      <td>Southampton</td>\n",
       "      <td>Normal</td>\n",
       "      <td>Done</td>\n",
       "      <td>None</td>\n",
       "      <td>12</td>\n",
       "    </tr>\n",
       "  </tbody>\n",
       "</table>\n",
       "</div>"
      ],
      "text/plain": [
       "  ttype     id     key                                   url  \\\n",
       "0  Task  29027  OSO-14  https://jira.flit.tech/browse/OSO-14   \n",
       "1  Task  29397  OSO-38  https://jira.flit.tech/browse/OSO-38   \n",
       "2  Task  29550  OSO-40  https://jira.flit.tech/browse/OSO-40   \n",
       "3  Task  29552  OSO-41  https://jira.flit.tech/browse/OSO-41   \n",
       "4  Task  29554  OSO-42  https://jira.flit.tech/browse/OSO-42   \n",
       "\n",
       "              summary                 labels                   created  \\\n",
       "0  Radio Taxi Sevilla           [Taxitronic] 2019-09-10 14:02:00+01:00   \n",
       "1             Werotax                     [] 2019-09-17 16:42:31+01:00   \n",
       "2     Britannia Taxis  [Booking.com, iCabbi] 2019-09-20 10:17:35+01:00   \n",
       "3        Thistle Cabs               [iCabbi] 2019-09-20 10:19:58+01:00   \n",
       "4    Door 2 Door Cars  [Booking.com, iCabbi] 2019-09-20 10:21:11+01:00   \n",
       "\n",
       "  updated_at resolution            resolutiondate       assignee  \\\n",
       "0       None       Done 2019-09-11 16:55:00+01:00  Carmen Turner   \n",
       "1       None       Done 2019-10-18 10:41:37+01:00           None   \n",
       "2       None       Done 2019-09-20 16:05:52+01:00  James Wilkins   \n",
       "3       None       Done 2019-09-20 16:05:48+01:00  James Wilkins   \n",
       "4       None       Done 2019-10-08 17:34:18+01:00  James Wilkins   \n",
       "\n",
       "      description priority status fixVersion  cycle_time  \n",
       "0      Taxitronic   Normal   Done       None           1  \n",
       "1  Sint-Oedenrode   Normal   Done       None          23  \n",
       "2       Liverpool   Normal   Done       None           0  \n",
       "3      Kilmarnock   Normal   Done       None           0  \n",
       "4     Southampton   Normal   Done       None          12  "
      ]
     },
     "execution_count": 5,
     "metadata": {},
     "output_type": "execute_result"
    }
   ],
   "source": [
    "oso_df.head()"
   ]
  },
  {
   "cell_type": "code",
   "execution_count": 9,
   "metadata": {},
   "outputs": [
    {
     "data": {
      "text/plain": [
       "Text(0.5, 1.0, 'Time between creation and resolution of OSO issues')"
      ]
     },
     "execution_count": 9,
     "metadata": {},
     "output_type": "execute_result"
    },
    {
     "data": {
      "image/png": "[encoded data removed]",
      "text/plain": [
       "<Figure size 432x288 with 1 Axes>"
      ]
     },
     "metadata": {
      "needs_background": "light"
     },
     "output_type": "display_data"
    }
   ],
   "source": [
    "oso_df.set_index('created',drop=False,inplace=True)\n",
    "oso_df.cycle_time.plot(kind='line',style='ko-').set_title('Time between creation and resolution of OSO issues')"
   ]
  },
  {
   "cell_type": "code",
   "execution_count": 7,
   "metadata": {},
   "outputs": [
    {
     "data": {
      "text/plain": [
       "(89, 16)"
      ]
     },
     "execution_count": 7,
     "metadata": {},
     "output_type": "execute_result"
    }
   ],
   "source": [
    "closed_df = pd.DataFrame(projects_data['INT'].resolved_issues())\n",
    "closed_df.shape"
   ]
  },
  {
   "cell_type": "code",
   "execution_count": 8,
   "metadata": {},
   "outputs": [
    {
     "data": {
      "text/plain": [
       "Text(0.5, 1.0, 'Time between creation and resolution of INT issues')"
      ]
     },
     "execution_count": 8,
     "metadata": {},
     "output_type": "execute_result"
    },
    {
     "data": {
      "image/png": "[encoded data removed]",
      "text/plain": [
       "<Figure size 432x288 with 1 Axes>"
      ]
     },
     "metadata": {
      "needs_background": "light"
     },
     "output_type": "display_data"
    }
   ],
   "source": [
    "closed_df.set_index('created',drop=False,inplace=True)\n",
    "closed_df.cycle_time.plot(kind='line',style='ko-').set_title('Time between creation and resolution of INT issues')"
   ]
  },
  {
   "cell_type": "code",
   "execution_count": null,
   "metadata": {},
   "outputs": [],
   "source": []
  }
 ],
 "metadata": {
  "kernelspec": {
   "display_name": "Python 3",
   "language": "python",
   "name": "python3"
  },
  "language_info": {
   "codemirror_mode": {
    "name": "ipython",
    "version": 3
   },
   "file_extension": ".py",
   "mimetype": "text/x-python",
   "name": "python",
   "nbconvert_exporter": "python",
   "pygments_lexer": "ipython3",
   "version": "3.6.8"
  }
 },
 "nbformat": 4,
 "nbformat_minor": 2
}
